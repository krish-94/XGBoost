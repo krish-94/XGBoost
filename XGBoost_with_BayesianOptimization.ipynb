{
  "nbformat": 4,
  "nbformat_minor": 0,
  "metadata": {
    "colab": {
      "name": "XGBoost with BayesianOptimization",
      "provenance": [],
      "collapsed_sections": [],
      "authorship_tag": "ABX9TyP0k4cHB0KUnPltdgFtTvPI",
      "include_colab_link": true
    },
    "kernelspec": {
      "name": "python3",
      "display_name": "Python 3"
    },
    "language_info": {
      "name": "python"
    }
  },
  "cells": [
    {
      "cell_type": "markdown",
      "metadata": {
        "id": "view-in-github",
        "colab_type": "text"
      },
      "source": [
        "<a href=\"https://colab.research.google.com/github/krish-94/XGBoost/blob/main/XGBoost_with_BayesianOptimization.ipynb\" target=\"_parent\"><img src=\"https://colab.research.google.com/assets/colab-badge.svg\" alt=\"Open In Colab\"/></a>"
      ]
    },
    {
      "cell_type": "markdown",
      "metadata": {
        "id": "n7EfYv8qjdOK"
      },
      "source": [
        "### **CREDIT CARD FRAUD DETECTION USING XGBOOST AND BAYESIAN OPTIMIZATION**\n",
        "\n",
        "Kaggle dataset - https://www.kaggle.com/mlg-ulb/creditcardfraud/home\n",
        "\n",
        "The dataset contains transactions made by credit cards in September 2013 by European cardholders.\n",
        "This dataset presents transactions that occurred in two days, where we have 492 frauds out of 284,807 transactions. The dataset is highly unbalanced, the positive class (frauds) account for 0.172% of all transactions.\n",
        "\n",
        "It contains only numerical input variables which are the result of a PCA transformation. Unfortunately, due to confidentiality issues, we cannot provide the original features and more background information about the data. Features V1, V2, … V28 are the principal components obtained with PCA, the only features which have not been transformed with PCA are 'Time' and 'Amount'. Feature 'Time' contains the seconds elapsed between each transaction and the first transaction in the dataset. The feature 'Amount' is the transaction Amount, this feature can be used for example-dependant cost-sensitive learning. Feature 'Class' is the response variable and it takes value 1 in case of fraud and 0 otherwise.\n",
        "\n",
        "Given the class imbalance ratio, we recommend measuring the accuracy using the Area Under the Precision-Recall Curve (AUPRC). Confusion matrix accuracy is not meaningful for unbalanced classification."
      ]
    },
    {
      "cell_type": "code",
      "metadata": {
        "id": "zr1g1QSEjcNv"
      },
      "source": [
        "# Importing the libraries\n",
        "\n",
        "import numpy as np\n",
        "import pandas as pd\n",
        "\n",
        "import xgboost as xgb\n",
        "from sklearn.model_selection import train_test_split, cross_val_predict, cross_val_score\n",
        "from sklearn.metrics import precision_score, recall_score, precision_recall_curve"
      ],
      "execution_count": 1,
      "outputs": []
    },
    {
      "cell_type": "code",
      "metadata": {
        "id": "U_LXeW_Ym1sQ"
      },
      "source": [
        "# Preparing the train and test data\n",
        "\n",
        "data = pd.read_csv('/content/creditcard.csv')\n",
        "X = data.drop('Class', axis = 1)\n",
        "Y = data['Class']\n",
        "\n",
        "X_train, X_test, Y_train, Y_test = train_test_split(X, Y, stratify = Y, test_size = 0.2, random_state = 42)\n",
        "\n",
        "# Converting the data frame into XGBoost Dmatrix object\n",
        "\n",
        "dtrain = xgb.DMatrix(X_train, label= Y_train)\n",
        "dtest = xgb.DMatrix(X_test)"
      ],
      "execution_count": 2,
      "outputs": []
    },
    {
      "cell_type": "code",
      "metadata": {
        "colab": {
          "base_uri": "https://localhost:8080/"
        },
        "id": "2PrwpxVlJQCv",
        "outputId": "3a5dce1e-bb5a-4753-b55f-a8e3e99c3fcf"
      },
      "source": [
        "!pip install bayesian-optimization\n",
        "from bayes_opt import BayesianOptimization"
      ],
      "execution_count": 3,
      "outputs": [
        {
          "output_type": "stream",
          "name": "stdout",
          "text": [
            "Requirement already satisfied: bayesian-optimization in /usr/local/lib/python3.7/dist-packages (1.2.0)\n",
            "Requirement already satisfied: numpy>=1.9.0 in /usr/local/lib/python3.7/dist-packages (from bayesian-optimization) (1.19.5)\n",
            "Requirement already satisfied: scikit-learn>=0.18.0 in /usr/local/lib/python3.7/dist-packages (from bayesian-optimization) (0.22.2.post1)\n",
            "Requirement already satisfied: scipy>=0.14.0 in /usr/local/lib/python3.7/dist-packages (from bayesian-optimization) (1.4.1)\n",
            "Requirement already satisfied: joblib>=0.11 in /usr/local/lib/python3.7/dist-packages (from scikit-learn>=0.18.0->bayesian-optimization) (1.0.1)\n"
          ]
        }
      ]
    },
    {
      "cell_type": "code",
      "metadata": {
        "id": "42M8DJGuxvJx"
      },
      "source": [
        "# max_depth - max tree depth for base learners\n",
        "# gamma - Tree compexity parameter. Based on diff b/w gamma and gain, the splitting of the leaf node will occur\n",
        "# Subsample ratio of the training instances. Setting it to 0.5 means that XGBoost would randomly sample \n",
        "#     half of the training data prior to growing trees. \n",
        "#     and this will prevent overfitting. Subsampling will occur once in every boosting iteration.\n",
        "\n",
        "def xgb_tune(max_depth, gamma, learning_rate):\n",
        "  params = {'eval_metric': 'logloss',\n",
        "            'max_depth': int(max_depth),\n",
        "            'learning_rate': learning_rate,\n",
        "            'subsample': 0.8,\n",
        "            'gamma': gamma}\n",
        "\n",
        "  # cross validation of xgboost. here num_boost_rounds is equivalent to n_estimators\n",
        "  # nfold - number of folds in cross validation\n",
        "  cv_xgboost = xgb.cv(params, dtrain, num_boost_round=70, nfold=5)\n",
        "  \n",
        "  # cv_xgboost will have train,test logloss mean and std. We want test-logloss-mean\n",
        "  # multiply by -1 since we are maximizing the function\n",
        "\n",
        "  return -1.0 * cv_xgboost['test-logloss-mean'].iloc[-1]\n"
      ],
      "execution_count": 4,
      "outputs": []
    },
    {
      "cell_type": "code",
      "metadata": {
        "id": "TtZmafANLTVZ"
      },
      "source": [
        "# Instantiate the BayesianOptimization object with bounds for parameters to be tuned\n",
        "# Here the objective function is logloss\n",
        "# Surrogate model used Gaussian Process model\n",
        "\n",
        "xgb_bo = BayesianOptimization(xgb_tune, {'max_depth': (3, 10),\n",
        "                                         'gamma': (0, 1),\n",
        "                                         'learning_rate':(0,1)\n",
        "                                        })"
      ],
      "execution_count": 5,
      "outputs": []
    },
    {
      "cell_type": "code",
      "metadata": {
        "colab": {
          "base_uri": "https://localhost:8080/"
        },
        "id": "5d_22Zk7XQL4",
        "outputId": "ef7dd729-d00d-496d-f4dc-56396df71ac7"
      },
      "source": [
        "# performing Bayesian Optimization with Expected Improvement (EI) as acquisition function\n",
        "\n",
        "xgb_bo.maximize(acq='ei', n_iter=5, init_points=8) #  so total iteration = 8 + 5 = 13"
      ],
      "execution_count": 6,
      "outputs": [
        {
          "output_type": "stream",
          "name": "stdout",
          "text": [
            "|   iter    |  target   |   gamma   | learni... | max_depth |\n",
            "-------------------------------------------------------------\n",
            "| \u001b[0m 1       \u001b[0m | \u001b[0m-0.003678\u001b[0m | \u001b[0m 0.9896  \u001b[0m | \u001b[0m 0.8962  \u001b[0m | \u001b[0m 8.76    \u001b[0m |\n",
            "| \u001b[0m 2       \u001b[0m | \u001b[0m-0.004345\u001b[0m | \u001b[0m 0.6556  \u001b[0m | \u001b[0m 0.7407  \u001b[0m | \u001b[0m 5.354   \u001b[0m |\n",
            "| \u001b[0m 3       \u001b[0m | \u001b[0m-0.003999\u001b[0m | \u001b[0m 0.8957  \u001b[0m | \u001b[0m 0.491   \u001b[0m | \u001b[0m 3.041   \u001b[0m |\n",
            "| \u001b[0m 4       \u001b[0m | \u001b[0m-0.00377 \u001b[0m | \u001b[0m 0.1263  \u001b[0m | \u001b[0m 0.4624  \u001b[0m | \u001b[0m 6.926   \u001b[0m |\n",
            "| \u001b[95m 5       \u001b[0m | \u001b[95m-0.003642\u001b[0m | \u001b[95m 0.6449  \u001b[0m | \u001b[95m 0.5245  \u001b[0m | \u001b[95m 8.597   \u001b[0m |\n",
            "| \u001b[95m 6       \u001b[0m | \u001b[95m-0.003119\u001b[0m | \u001b[95m 0.2351  \u001b[0m | \u001b[95m 0.1817  \u001b[0m | \u001b[95m 9.524   \u001b[0m |\n",
            "| \u001b[0m 7       \u001b[0m | \u001b[0m-0.004475\u001b[0m | \u001b[0m 0.164   \u001b[0m | \u001b[0m 0.6953  \u001b[0m | \u001b[0m 9.874   \u001b[0m |\n",
            "| \u001b[0m 8       \u001b[0m | \u001b[0m-0.003633\u001b[0m | \u001b[0m 0.5873  \u001b[0m | \u001b[0m 0.4334  \u001b[0m | \u001b[0m 8.972   \u001b[0m |\n",
            "| \u001b[0m 9       \u001b[0m | \u001b[0m-0.003716\u001b[0m | \u001b[0m 0.2856  \u001b[0m | \u001b[0m 0.2613  \u001b[0m | \u001b[0m 3.008   \u001b[0m |\n",
            "| \u001b[0m 10      \u001b[0m | \u001b[0m-0.003818\u001b[0m | \u001b[0m 0.2819  \u001b[0m | \u001b[0m 0.3765  \u001b[0m | \u001b[0m 3.041   \u001b[0m |\n",
            "| \u001b[0m 11      \u001b[0m | \u001b[0m-0.01215 \u001b[0m | \u001b[0m 0.08724 \u001b[0m | \u001b[0m 0.05427 \u001b[0m | \u001b[0m 9.907   \u001b[0m |\n",
            "| \u001b[0m 12      \u001b[0m | \u001b[0m-0.005318\u001b[0m | \u001b[0m 0.9364  \u001b[0m | \u001b[0m 0.9953  \u001b[0m | \u001b[0m 3.501   \u001b[0m |\n",
            "| \u001b[0m 13      \u001b[0m | \u001b[0m-0.007987\u001b[0m | \u001b[0m 0.001308\u001b[0m | \u001b[0m 0.9926  \u001b[0m | \u001b[0m 7.97    \u001b[0m |\n",
            "=============================================================\n"
          ]
        }
      ]
    },
    {
      "cell_type": "code",
      "metadata": {
        "id": "i9iZvaRbYXT-"
      },
      "source": [
        "parameters = xgb_bo.max['params']\n",
        "parameters['max_depth'] = int(parameters['max_depth'])"
      ],
      "execution_count": 7,
      "outputs": []
    },
    {
      "cell_type": "code",
      "metadata": {
        "id": "_flRdF2hhWjn"
      },
      "source": [
        "# train a xgb classifier model with obtained hyper parameters from Bayesian Optimization\n",
        "from xgboost import XGBClassifier\n",
        "final_model = XGBClassifier(**parameters, n_estimators=250).fit(X_train,Y_train)\n",
        "default_model = XGBClassifier().fit(X_train,Y_train)"
      ],
      "execution_count": 8,
      "outputs": []
    },
    {
      "cell_type": "code",
      "metadata": {
        "colab": {
          "base_uri": "https://localhost:8080/"
        },
        "id": "At12_SNtEAXN",
        "outputId": "f6526068-5476-446a-aa95-51960f14e65e"
      },
      "source": [
        "from sklearn.metrics import classification_report\n",
        "final_predict = final_model.predict(X_test)\n",
        "print(classification_report(Y_test,final_predict))"
      ],
      "execution_count": 9,
      "outputs": [
        {
          "output_type": "stream",
          "name": "stdout",
          "text": [
            "              precision    recall  f1-score   support\n",
            "\n",
            "           0       1.00      1.00      1.00     56864\n",
            "           1       0.93      0.82      0.87        98\n",
            "\n",
            "    accuracy                           1.00     56962\n",
            "   macro avg       0.96      0.91      0.93     56962\n",
            "weighted avg       1.00      1.00      1.00     56962\n",
            "\n"
          ]
        }
      ]
    },
    {
      "cell_type": "code",
      "metadata": {
        "colab": {
          "base_uri": "https://localhost:8080/"
        },
        "id": "lWThohM7I9PT",
        "outputId": "f714d546-ecb0-4775-dcfc-844b33613f76"
      },
      "source": [
        "default_predict = default_model.predict(X_test)\n",
        "print(classification_report(Y_test,default_predict))"
      ],
      "execution_count": 10,
      "outputs": [
        {
          "output_type": "stream",
          "name": "stdout",
          "text": [
            "              precision    recall  f1-score   support\n",
            "\n",
            "           0       1.00      1.00      1.00     56864\n",
            "           1       0.89      0.80      0.84        98\n",
            "\n",
            "    accuracy                           1.00     56962\n",
            "   macro avg       0.94      0.90      0.92     56962\n",
            "weighted avg       1.00      1.00      1.00     56962\n",
            "\n"
          ]
        }
      ]
    },
    {
      "cell_type": "code",
      "metadata": {
        "colab": {
          "base_uri": "https://localhost:8080/"
        },
        "id": "yI9gufSQJZyq",
        "outputId": "ad16c4ee-d30f-4fc0-d9e5-15315a92f94c"
      },
      "source": [
        "from sklearn.metrics import confusion_matrix, accuracy_score\n",
        "cm = confusion_matrix(final_predict, Y_test)\n",
        "acc = cm.diagonal().sum()/cm.sum()\n",
        "print(acc)\n",
        "print(accuracy_score(Y_test,final_predict))\n",
        "# predict probabilities\n",
        "lr_probs = final_model.predict_proba(X_test)\n",
        "# keep probabilities for the positive outcome only\n",
        "lr_probs = lr_probs[:, 1]\n",
        "\n",
        "precision_final, recall_final, _ = precision_recall_curve(Y_test,lr_probs)\n",
        "from sklearn.metrics import auc\n",
        "print(auc(recall_final,precision_final))"
      ],
      "execution_count": 19,
      "outputs": [
        {
          "output_type": "stream",
          "name": "stdout",
          "text": [
            "0.9995786664794073\n",
            "0.9995786664794073\n",
            "0.8743059593128896\n"
          ]
        }
      ]
    },
    {
      "cell_type": "code",
      "metadata": {
        "colab": {
          "base_uri": "https://localhost:8080/"
        },
        "id": "H3I1XoxYK1pe",
        "outputId": "99db8cbc-bcc1-46a3-cb4d-5f0b788f6611"
      },
      "source": [
        "cm2 = confusion_matrix(default_predict, Y_test)\n",
        "acc2 = cm2.diagonal().sum()/cm2.sum()\n",
        "print(acc2)\n",
        "print(accuracy_score(Y_test,default_predict))\n",
        "# predict probabilities\n",
        "lr_probs = default_model.predict_proba(X_test)\n",
        "# keep probabilities for the positive outcome only\n",
        "lr_probs = lr_probs[:, 1]\n",
        "\n",
        "precision_final, recall_final, _ = precision_recall_curve(Y_test,lr_probs)\n",
        "from sklearn.metrics import auc\n",
        "print(auc(recall_final,precision_final))"
      ],
      "execution_count": 20,
      "outputs": [
        {
          "output_type": "stream",
          "name": "stdout",
          "text": [
            "0.9994733330992591\n",
            "0.9994733330992591\n",
            "0.8587418472035832\n"
          ]
        }
      ]
    },
    {
      "cell_type": "code",
      "metadata": {
        "id": "lv0dgV05K9Nn"
      },
      "source": [
        ""
      ],
      "execution_count": 12,
      "outputs": []
    }
  ]
}